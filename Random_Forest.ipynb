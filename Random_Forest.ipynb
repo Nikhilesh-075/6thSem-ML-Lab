{
  "nbformat": 4,
  "nbformat_minor": 0,
  "metadata": {
    "colab": {
      "provenance": [],
      "authorship_tag": "ABX9TyPoFVJyCUNbgc6Q1Og8EVxs",
      "include_colab_link": true
    },
    "kernelspec": {
      "name": "python3",
      "display_name": "Python 3"
    },
    "language_info": {
      "name": "python"
    }
  },
  "cells": [
    {
      "cell_type": "markdown",
      "metadata": {
        "id": "view-in-github",
        "colab_type": "text"
      },
      "source": [
        "<a href=\"https://colab.research.google.com/github/Nikhilesh-075/6thSem-ML-Lab/blob/main/Random_Forest.ipynb\" target=\"_parent\"><img src=\"https://colab.research.google.com/assets/colab-badge.svg\" alt=\"Open In Colab\"/></a>"
      ]
    },
    {
      "cell_type": "code",
      "execution_count": 1,
      "metadata": {
        "colab": {
          "base_uri": "https://localhost:8080/"
        },
        "id": "jiH-CSommSY_",
        "outputId": "c52a566f-bf33-4ce5-9d10-b4821ab51b36"
      },
      "outputs": [
        {
          "output_type": "stream",
          "name": "stdout",
          "text": [
            "Predictions: [np.int64(0), np.int64(0), np.int64(0), np.int64(0), np.int64(0), np.int64(0), np.int64(0), np.int64(0), np.int64(0), np.int64(0)]\n"
          ]
        }
      ],
      "source": [
        "import numpy as np\n",
        "from sklearn.datasets import load_iris\n",
        "from sklearn.tree import DecisionTreeClassifier\n",
        "from collections import Counter\n",
        "\n",
        "# Load the Iris dataset\n",
        "data = load_iris()\n",
        "X, y = data.data, data.target\n",
        "\n",
        "# Parameters for the Random Forest\n",
        "n_trees = 10\n",
        "max_depth = 5\n",
        "n_features = 2\n",
        "\n",
        "# Initialize list to store the trees\n",
        "trees = []\n",
        "\n",
        "# Train Random Forest (using decision trees)\n",
        "for _ in range(n_trees):\n",
        "    # Bootstrap sampling with replacement\n",
        "    n_samples = X.shape[0]\n",
        "    indices = np.random.choice(n_samples, size=n_samples, replace=True)\n",
        "    X_sample = X[indices]\n",
        "    y_sample = y[indices]\n",
        "\n",
        "    # Create and fit a decision tree\n",
        "    tree = DecisionTreeClassifier(max_depth=max_depth, max_features=n_features)\n",
        "    tree.fit(X_sample, y_sample)\n",
        "    trees.append(tree)\n",
        "\n",
        "# Make predictions using the Random Forest (majority voting)\n",
        "def random_forest_predict(X, trees):\n",
        "    tree_predictions = np.array([tree.predict(X) for tree in trees])\n",
        "    # Majority voting\n",
        "    return [Counter(tree_predictions[:, i]).most_common(1)[0][0] for i in range(X.shape[0])]\n",
        "\n",
        "# Predict using the trained Random Forest\n",
        "predictions = random_forest_predict(X, trees)\n",
        "\n",
        "# Print the first 10 predictions\n",
        "print(\"Predictions:\", predictions[:10])\n"
      ]
    }
  ]
}