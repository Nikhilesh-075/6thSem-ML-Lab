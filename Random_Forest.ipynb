{
  "nbformat": 4,
  "nbformat_minor": 0,
  "metadata": {
    "colab": {
      "provenance": [],
      "authorship_tag": "ABX9TyPGZJ9Kw+c4na7ATD64LJsI",
      "include_colab_link": true
    },
    "kernelspec": {
      "name": "python3",
      "display_name": "Python 3"
    },
    "language_info": {
      "name": "python"
    }
  },
  "cells": [
    {
      "cell_type": "markdown",
      "metadata": {
        "id": "view-in-github",
        "colab_type": "text"
      },
      "source": [
        "<a href=\"https://colab.research.google.com/github/Nikhilesh-075/6thSem-ML-Lab/blob/main/Random_Forest.ipynb\" target=\"_parent\"><img src=\"https://colab.research.google.com/assets/colab-badge.svg\" alt=\"Open In Colab\"/></a>"
      ]
    },
    {
      "cell_type": "code",
      "execution_count": null,
      "metadata": {
        "colab": {
          "base_uri": "https://localhost:8080/"
        },
        "id": "jiH-CSommSY_",
        "outputId": "936738a5-b0f8-4581-e8ba-47157cef4704"
      },
      "outputs": [
        {
          "output_type": "stream",
          "name": "stdout",
          "text": [
            "Predictions: [np.int64(0), np.int64(0), np.int64(0), np.int64(0), np.int64(0), np.int64(0), np.int64(0), np.int64(0), np.int64(0), np.int64(0)]\n"
          ]
        }
      ],
      "source": [
        "import numpy as np\n",
        "from sklearn.datasets import load_iris\n",
        "from sklearn.tree import DecisionTreeClassifier\n",
        "from collections import Counter\n",
        "\n",
        "# Load the Iris dataset\n",
        "data = load_iris()\n",
        "X, y = data.data, data.target\n",
        "\n",
        "# Parameters for the Random Forest\n",
        "n_trees = 10\n",
        "max_depth = 5\n",
        "n_features = 2\n",
        "\n",
        "# Initialize list to store the trees\n",
        "trees = []\n",
        "\n",
        "# Train Random Forest (using decision trees)\n",
        "for _ in range(n_trees):\n",
        "    # Bootstrap sampling with replacement\n",
        "    n_samples = X.shape[0]\n",
        "    indices = np.random.choice(n_samples, size=n_samples, replace=True)\n",
        "    X_sample = X[indices]\n",
        "    y_sample = y[indices]\n",
        "\n",
        "    # Create and fit a decision tree\n",
        "    tree = DecisionTreeClassifier(max_depth=max_depth, max_features=n_features)\n",
        "    tree.fit(X_sample, y_sample)\n",
        "    trees.append(tree)\n",
        "\n",
        "# Make predictions using the Random Forest (majority voting)\n",
        "def random_forest_predict(X, trees):\n",
        "    tree_predictions = np.array([tree.predict(X) for tree in trees])\n",
        "    # Majority voting\n",
        "    return [Counter(tree_predictions[:, i]).most_common(1)[0][0] for i in range(X.shape[0])]\n",
        "\n",
        "# Predict using the trained Random Forest\n",
        "predictions = random_forest_predict(X, trees)\n",
        "\n",
        "# Print the first 10 predictions\n",
        "print(\"Predictions:\", predictions[:10])\n"
      ]
    },
    {
      "cell_type": "code",
      "source": [
        "import numpy as np\n",
        "from sklearn.datasets import load_iris\n",
        "from sklearn.tree import DecisionTreeClassifier\n",
        "from collections import Counter\n",
        "\n",
        "# Load dataset and prepare binary classification (Setosa vs Not Setosa)\n",
        "data = load_iris()\n",
        "X, y = data.data, data.target\n",
        "y = (y == 0).astype(int)  # Setosa vs Not Setosa\n",
        "\n",
        "# AdaBoost parameters\n",
        "n_estimators = 50\n",
        "weights = np.ones(len(y)) / len(y)\n",
        "models, alphas = [], []\n",
        "\n",
        "# AdaBoost algorithm\n",
        "for _ in range(n_estimators):\n",
        "    model = DecisionTreeClassifier(max_depth=1)\n",
        "    model.fit(X, y, sample_weight=weights)\n",
        "    preds = model.predict(X)\n",
        "    error = np.sum(weights * (preds != y)) / np.sum(weights)\n",
        "    alpha = 0.5 * np.log((1 - error) / (error + 1e-10))\n",
        "    weights = weights * np.exp(-alpha * y * (2 * preds - 1))\n",
        "    weights /= np.sum(weights)\n",
        "    models.append(model)\n",
        "    alphas.append(alpha)\n",
        "\n",
        "# Predict with AdaBoost\n",
        "def predict(X, models, alphas):\n",
        "    weak_preds = np.array([model.predict(X) for model in models])\n",
        "    return (np.dot(alphas, 2 * weak_preds - 1) > 0).astype(int)\n",
        "\n",
        "# Get predictions\n",
        "predictions = predict(X, models, alphas)\n",
        "print(\"Predictions:\", predictions[:10])\n"
      ],
      "metadata": {
        "id": "uirqL4AytoQS",
        "outputId": "2537cd61-02e0-40c9-aab9-9c78bf3748f2",
        "colab": {
          "base_uri": "https://localhost:8080/"
        }
      },
      "execution_count": null,
      "outputs": [
        {
          "output_type": "stream",
          "name": "stdout",
          "text": [
            "Predictions: [1 1 1 1 1 1 1 1 1 1]\n"
          ]
        }
      ]
    }
  ]
}