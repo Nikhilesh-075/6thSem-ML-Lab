{
  "nbformat": 4,
  "nbformat_minor": 0,
  "metadata": {
    "colab": {
      "provenance": [],
      "authorship_tag": "ABX9TyOYIseRjN7JG1Ncu6xc1txP",
      "include_colab_link": true
    },
    "kernelspec": {
      "name": "python3",
      "display_name": "Python 3"
    },
    "language_info": {
      "name": "python"
    }
  },
  "cells": [
    {
      "cell_type": "markdown",
      "metadata": {
        "id": "view-in-github",
        "colab_type": "text"
      },
      "source": [
        "<a href=\"https://colab.research.google.com/github/Nikhilesh-075/6thSem-ML-Lab/blob/main/Linear_Regression.ipynb\" target=\"_parent\"><img src=\"https://colab.research.google.com/assets/colab-badge.svg\" alt=\"Open In Colab\"/></a>"
      ]
    },
    {
      "cell_type": "code",
      "execution_count": null,
      "metadata": {
        "colab": {
          "base_uri": "https://localhost:8080/"
        },
        "id": "yXG5vfQHOoF_",
        "outputId": "6cb27cae-ac40-46ce-d4f3-5073879f5f22"
      },
      "outputs": [
        {
          "output_type": "stream",
          "name": "stdout",
          "text": [
            "Slope: 199.99999999999991\n",
            "Intercept: 1.7462298274040222e-10\n",
            "Predicted price for 3000 sq ft: 600000.0\n"
          ]
        }
      ],
      "source": [
        "# Import necessary libraries\n",
        "import numpy as np\n",
        "from sklearn.linear_model import LinearRegression\n",
        "\n",
        "# Prepare the data\n",
        "x = np.array([1000, 1500, 2000, 2500]).reshape((-1, 1)) #independent variable\n",
        "y = np.array([200000, 300000, 400000, 500000]) #dependent variable\n",
        "\n",
        "# Create and train the linear regression model\n",
        "model = LinearRegression()\n",
        "model.fit(x, y)\n",
        "\n",
        "# Get the slope (m) and intercept (b)\n",
        "slope = model.coef_[0]\n",
        "intercept = model.intercept_\n",
        "\n",
        "# Print the results\n",
        "print(\"Slope:\", slope)\n",
        "print(\"Intercept:\", intercept)\n",
        "\n",
        "# Predict a new value\n",
        "new_x = np.array([[3000]])\n",
        "predicted_y = model.predict(new_x)\n",
        "print(\"Predicted price for 3000 sq ft:\", predicted_y[0])"
      ]
    },
    {
      "cell_type": "code",
      "source": [
        "import numpy as np\n",
        "\n",
        "x = np.array([1000, 1500, 2000, 2500])\n",
        "y = np.array([200000, 300000, 400000, 500000])\n",
        "\n",
        "n = len(x)\n",
        "\n",
        "x_mean = np.mean(x)\n",
        "y_mean = np.mean(y)\n",
        "\n",
        "numerator = np.sum((x - x_mean) * (y - y_mean))\n",
        "denominator = np.sum((x - x_mean) ** 2)\n",
        "\n",
        "m = numerator / denominator\n",
        "b = y_mean - m * x_mean\n",
        "y1=m*3000+b\n",
        "\n",
        "print(\"Slope (m):\", m)\n",
        "print(\"Intercept (b):\", b)\n",
        "print(\"Predicted price for 3000 sq ft:\", y1)\n"
      ],
      "metadata": {
        "colab": {
          "base_uri": "https://localhost:8080/"
        },
        "id": "FQBy3_LAP1D6",
        "outputId": "05280705-c0e5-4d9a-ae34-f325140b9c1c"
      },
      "execution_count": null,
      "outputs": [
        {
          "output_type": "stream",
          "name": "stdout",
          "text": [
            "Slope (m): 200.0\n",
            "Intercept (b): 0.0\n",
            "Predicted price for 3000 sq ft: 600000.0\n"
          ]
        }
      ]
    }
  ]
}