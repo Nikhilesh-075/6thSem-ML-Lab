{
  "nbformat": 4,
  "nbformat_minor": 0,
  "metadata": {
    "colab": {
      "provenance": [],
      "authorship_tag": "ABX9TyNnHRWL1CE2VMTjJmoTtTXQ",
      "include_colab_link": true
    },
    "kernelspec": {
      "name": "python3",
      "display_name": "Python 3"
    },
    "language_info": {
      "name": "python"
    }
  },
  "cells": [
    {
      "cell_type": "markdown",
      "metadata": {
        "id": "view-in-github",
        "colab_type": "text"
      },
      "source": [
        "<a href=\"https://colab.research.google.com/github/Nikhilesh-075/6thSem-ML-Lab/blob/main/Boosting_Ensemble.ipynb\" target=\"_parent\"><img src=\"https://colab.research.google.com/assets/colab-badge.svg\" alt=\"Open In Colab\"/></a>"
      ]
    },
    {
      "cell_type": "code",
      "execution_count": 1,
      "metadata": {
        "colab": {
          "base_uri": "https://localhost:8080/"
        },
        "id": "YjQEMaKY2Dii",
        "outputId": "3b0096e4-c936-4f0b-e536-a4a2c082023b"
      },
      "outputs": [
        {
          "output_type": "stream",
          "name": "stdout",
          "text": [
            "Predictions: [1 1 1 1 1 1 1 1 1 1]\n"
          ]
        }
      ],
      "source": [
        "import numpy as np\n",
        "from sklearn.datasets import load_iris\n",
        "from sklearn.tree import DecisionTreeClassifier\n",
        "from collections import Counter\n",
        "\n",
        "# Load dataset and prepare binary classification (Setosa vs Not Setosa)\n",
        "data = load_iris()\n",
        "X, y = data.data, data.target\n",
        "y = (y == 0).astype(int)  # Setosa vs Not Setosa\n",
        "\n",
        "# AdaBoost parameters\n",
        "n_estimators = 50\n",
        "weights = np.ones(len(y)) / len(y)\n",
        "models, alphas = [], []\n",
        "\n",
        "# AdaBoost algorithm\n",
        "for _ in range(n_estimators):\n",
        "    model = DecisionTreeClassifier(max_depth=1)\n",
        "    model.fit(X, y, sample_weight=weights)\n",
        "    preds = model.predict(X)\n",
        "    error = np.sum(weights * (preds != y)) / np.sum(weights)\n",
        "    alpha = 0.5 * np.log((1 - error) / (error + 1e-10))\n",
        "    weights = weights * np.exp(-alpha * y * (2 * preds - 1))\n",
        "    weights /= np.sum(weights)\n",
        "    models.append(model)\n",
        "    alphas.append(alpha)\n",
        "\n",
        "# Predict with AdaBoost\n",
        "def predict(X, models, alphas):\n",
        "    weak_preds = np.array([model.predict(X) for model in models])\n",
        "    return (np.dot(alphas, 2 * weak_preds - 1) > 0).astype(int)\n",
        "\n",
        "# Get predictions\n",
        "predictions = predict(X, models, alphas)\n",
        "print(\"Predictions:\", predictions[:10])\n"
      ]
    }
  ]
}