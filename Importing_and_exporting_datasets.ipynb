{
  "nbformat": 4,
  "nbformat_minor": 0,
  "metadata": {
    "colab": {
      "provenance": [],
      "authorship_tag": "ABX9TyOi8N961no+oBP42gex6lOE",
      "include_colab_link": true
    },
    "kernelspec": {
      "name": "python3",
      "display_name": "Python 3"
    },
    "language_info": {
      "name": "python"
    }
  },
  "cells": [
    {
      "cell_type": "markdown",
      "metadata": {
        "id": "view-in-github",
        "colab_type": "text"
      },
      "source": [
        "<a href=\"https://colab.research.google.com/github/Nikhilesh-075/Machine-Learning/blob/main/Importing_and_exporting_datasets.ipynb\" target=\"_parent\"><img src=\"https://colab.research.google.com/assets/colab-badge.svg\" alt=\"Open In Colab\"/></a>"
      ]
    },
    {
      "cell_type": "code",
      "execution_count": null,
      "metadata": {
        "colab": {
          "base_uri": "https://localhost:8080/"
        },
        "id": "MpCgy6rxQ8CZ",
        "outputId": "c8a24b7c-4686-44c5-ad9e-8f8e6a5e2f28"
      },
      "outputs": [
        {
          "output_type": "stream",
          "name": "stdout",
          "text": [
            "          0         1         2         3         4         5         6  \\\n",
            "0  0.038076  0.050680  0.061696  0.021872 -0.044223 -0.034821 -0.043401   \n",
            "1 -0.001882 -0.044642 -0.051474 -0.026328 -0.008449 -0.019163  0.074412   \n",
            "2  0.085299  0.050680  0.044451 -0.005670 -0.045599 -0.034194 -0.032356   \n",
            "3 -0.089063 -0.044642 -0.011595 -0.036656  0.012191  0.024991 -0.036038   \n",
            "4  0.005383 -0.044642 -0.036385  0.021872  0.003935  0.015596  0.008142   \n",
            "\n",
            "          7         8         9  \n",
            "0 -0.002592  0.019907 -0.017646  \n",
            "1 -0.039493 -0.068332 -0.092204  \n",
            "2 -0.002592  0.002861 -0.025930  \n",
            "3  0.034309  0.022688 -0.009362  \n",
            "4 -0.002592 -0.031988 -0.046641  \n"
          ]
        }
      ],
      "source": [
        "import pandas as pd\n",
        "import sklearn.datasets as sd\n",
        "\n",
        "diab=sd.load_diabetes()\n",
        "df=pd.DataFrame(diab.data)\n",
        "print(df.head())"
      ]
    },
    {
      "cell_type": "code",
      "source": [
        "import yfinance as yf\n",
        "import pandas as pd\n",
        "import matplotlib.pyplot as plt\n",
        "\n",
        "tickers=[\"HDFCBANK.NS\",'ICICIBANK.NS','KOTAKBANK.NS']\n",
        "data=yf.download(tickers,start=\"2024-01-01\",end=\"2024-12-30\",group_by=\"ticker\")\n",
        "print(data.head())"
      ],
      "metadata": {
        "colab": {
          "base_uri": "https://localhost:8080/"
        },
        "id": "lGe6Ouv8f1-B",
        "outputId": "8952bb16-8ba0-4bed-c1f5-74a5c61a8992"
      },
      "execution_count": 1,
      "outputs": [
        {
          "output_type": "stream",
          "name": "stdout",
          "text": [
            "YF.download() has changed argument auto_adjust default to True\n"
          ]
        },
        {
          "output_type": "stream",
          "name": "stderr",
          "text": [
            "[*********************100%***********************]  3 of 3 completed"
          ]
        },
        {
          "output_type": "stream",
          "name": "stdout",
          "text": [
            "Ticker     KOTAKBANK.NS                                                  \\\n",
            "Price              Open         High          Low        Close   Volume   \n",
            "Date                                                                      \n",
            "2024-01-01  1906.909954  1916.899006  1891.027338  1907.059814  1425902   \n",
            "2024-01-02  1905.911108  1905.911108  1858.063525  1863.008179  5120796   \n",
            "2024-01-03  1861.959234  1867.952665  1845.627158  1863.857178  3781515   \n",
            "2024-01-04  1869.451068  1869.451068  1858.513105  1861.559692  2865766   \n",
            "2024-01-05  1863.457575  1867.852782  1839.383985  1845.577148  7799341   \n",
            "\n",
            "Ticker     ICICIBANK.NS                                                \\\n",
            "Price              Open        High         Low       Close    Volume   \n",
            "Date                                                                    \n",
            "2024-01-01   983.086778  996.273246  982.541485  990.869812   7683792   \n",
            "2024-01-02   988.490253  989.134730  971.883221  973.866150  16263825   \n",
            "2024-01-03   976.295294  979.567116  966.777197  975.650818  16826752   \n",
            "2024-01-04   977.980767  980.707295  973.519176  978.724365  22789140   \n",
            "2024-01-05   979.567084  989.779158  975.402920  985.218445  14875499   \n",
            "\n",
            "Ticker      HDFCBANK.NS                                                   \n",
            "Price              Open         High          Low        Close    Volume  \n",
            "Date                                                                      \n",
            "2024-01-01  1683.017598  1686.125187  1669.206199  1675.223999   7119843  \n",
            "2024-01-02  1675.914685  1679.860799  1665.950651  1676.210571  14621046  \n",
            "2024-01-03  1679.071480  1681.735059  1646.466666  1650.363525  14194881  \n",
            "2024-01-04  1655.394910  1672.116520  1648.193203  1668.071777  13367028  \n",
            "2024-01-05  1664.421596  1681.932477  1645.628180  1659.538208  15944735  \n"
          ]
        },
        {
          "output_type": "stream",
          "name": "stderr",
          "text": [
            "\n"
          ]
        }
      ]
    }
  ]
}