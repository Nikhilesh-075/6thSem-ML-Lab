{
  "nbformat": 4,
  "nbformat_minor": 0,
  "metadata": {
    "colab": {
      "provenance": [],
      "authorship_tag": "ABX9TyNazihk4pTAfNGsZqnAKX+D",
      "include_colab_link": true
    },
    "kernelspec": {
      "name": "python3",
      "display_name": "Python 3"
    },
    "language_info": {
      "name": "python"
    }
  },
  "cells": [
    {
      "cell_type": "markdown",
      "metadata": {
        "id": "view-in-github",
        "colab_type": "text"
      },
      "source": [
        "<a href=\"https://colab.research.google.com/github/Nikhilesh-075/6thSem-ML-Lab/blob/main/PCA.ipynb\" target=\"_parent\"><img src=\"https://colab.research.google.com/assets/colab-badge.svg\" alt=\"Open In Colab\"/></a>"
      ]
    },
    {
      "cell_type": "code",
      "execution_count": null,
      "metadata": {
        "id": "a6eOP_yU5Ioq"
      },
      "outputs": [],
      "source": [
        "import pandas as pd\n",
        "from sklearn.preprocessing import StandardScaler\n",
        "from sklearn.decomposition import PCA\n",
        "import matplotlib.pyplot as plt\n",
        "import seaborn as sns\n",
        "from google.colab import files\n",
        "\n",
        "# Upload datasets\n",
        "uploaded = files.upload()\n",
        "\n",
        "# Load datasets (make sure filenames match the uploaded ones)\n",
        "diabetes_df = pd.read_csv(\"diabetes_data_upload.csv\")\n",
        "adult_df = pd.read_csv(\"adult.csv\")\n",
        "\n",
        "# ----------- Helper Functions -----------\n",
        "\n",
        "def preprocess_dataset(df):\n",
        "    # Drop missing values\n",
        "    df = df.dropna()\n",
        "    # Convert categorical to numerical\n",
        "    df = pd.get_dummies(df, drop_first=True)\n",
        "    return df\n",
        "\n",
        "def apply_pca(df, label_column=None, dataset_name=\"Dataset\"):\n",
        "    # If label exists, separate it\n",
        "    if label_column and label_column in df.columns:\n",
        "        y = df[label_column]\n",
        "        X = df.drop(label_column, axis=1)\n",
        "    else:\n",
        "        X = df\n",
        "        y = None\n",
        "\n",
        "    # Standardize features\n",
        "    scaler = StandardScaler()\n",
        "    X_scaled = scaler.fit_transform(X)\n",
        "\n",
        "    # Apply PCA\n",
        "    pca = PCA(n_components=2)\n",
        "    X_pca = pca.fit_transform(X_scaled)\n",
        "\n",
        "    # Create DataFrame for plotting\n",
        "    pca_df = pd.DataFrame(X_pca, columns=[\"PC1\", \"PC2\"])\n",
        "    if y is not None:\n",
        "        pca_df[\"Label\"] = y\n",
        "\n",
        "    # Plot\n",
        "    plt.figure(figsize=(8, 6))\n",
        "    sns.set(style=\"whitegrid\")\n",
        "    if y is not None:\n",
        "        sns.scatterplot(data=pca_df, x=\"PC1\", y=\"PC2\", hue=\"Label\", palette=\"Set1\")\n",
        "    else:\n",
        "        plt.scatter(pca_df[\"PC1\"], pca_df[\"PC2\"])\n",
        "    plt.title(f\"PCA of {dataset_name}\")\n",
        "    plt.xlabel(\"Principal Component 1\")\n",
        "    plt.ylabel(\"Principal Component 2\")\n",
        "    plt.show()\n",
        "\n",
        "    # Print explained variance\n",
        "    print(f\"Explained Variance Ratio for {dataset_name}:\")\n",
        "    print(pca.explained_variance_ratio_)\n",
        "\n",
        "# ----------- Apply PCA on Diabetes Dataset -----------\n",
        "print(\"\\n--- PCA on Diabetes Dataset ---\")\n",
        "diabetes_df_processed = preprocess_dataset(diabetes_df)\n",
        "apply_pca(diabetes_df_processed, label_column=\"class\", dataset_name=\"Diabetes Dataset\")\n",
        "\n",
        "# ----------- Apply PCA on Adult Income Dataset -----------\n",
        "print(\"\\n--- PCA on Adult Income Dataset ---\")\n",
        "adult_df_processed = preprocess_dataset(adult_df)\n",
        "apply_pca(adult_df_processed, label_column=\"income\", dataset_name=\"Adult Income Dataset\")\n"
      ]
    }
  ]
}