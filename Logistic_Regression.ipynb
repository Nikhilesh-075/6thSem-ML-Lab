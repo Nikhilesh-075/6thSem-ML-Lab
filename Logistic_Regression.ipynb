{
  "nbformat": 4,
  "nbformat_minor": 0,
  "metadata": {
    "colab": {
      "provenance": [],
      "authorship_tag": "ABX9TyO6mAko8e/k51u0fcdvgcKL",
      "include_colab_link": true
    },
    "kernelspec": {
      "name": "python3",
      "display_name": "Python 3"
    },
    "language_info": {
      "name": "python"
    }
  },
  "cells": [
    {
      "cell_type": "markdown",
      "metadata": {
        "id": "view-in-github",
        "colab_type": "text"
      },
      "source": [
        "<a href=\"https://colab.research.google.com/github/Nikhilesh-075/6thSem-ML-Lab/blob/main/Logistic_Regression.ipynb\" target=\"_parent\"><img src=\"https://colab.research.google.com/assets/colab-badge.svg\" alt=\"Open In Colab\"/></a>"
      ]
    },
    {
      "cell_type": "code",
      "execution_count": null,
      "metadata": {
        "id": "CjBwcB2kq6Yu"
      },
      "outputs": [],
      "source": [
        "# Import necessary libraries\n",
        "import numpy as np\n",
        "from sklearn.linear_model import LogisticRegression\n",
        "\n",
        "# Prepare the data\n",
        "x = np.array([1, 2, 3, 4, 5, 6, 7, 8, 9, 10]).reshape((-1, 1)) #independent variable\n",
        "y = np.array([0, 0, 0, 0, 1, 1, 1, 1, 1, 1]) #dependent variable\n",
        "\n",
        "# Create and train the logistic regression model\n",
        "model = LogisticRegression()\n",
        "model.fit(x, y)\n",
        "\n",
        "# Predict probabilities\n",
        "probabilities = model.predict_proba(x)\n",
        "print(\"Probabilities:\", probabilities)\n",
        "\n",
        "# Predict class labels\n",
        "predictions = model.predict(x)\n",
        "print(\"Predictions:\", predictions)\n",
        "\n",
        "#predict a new value\n",
        "new_x = np.array([[5.5]])\n",
        "predicted_probability = model.predict_proba(new_x)\n",
        "print(\"Predicted probabilities for 5.5 hours:\", predicted_probability)\n",
        "\n",
        "predicted_class = model.predict(new_x)\n",
        "print(\"Predicted Class for 5.5 hours:\", predicted_class)"
      ]
    }
  ]
}